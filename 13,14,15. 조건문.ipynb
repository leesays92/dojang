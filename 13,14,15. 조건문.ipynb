{
 "cells": [
  {
   "cell_type": "markdown",
   "metadata": {},
   "source": [
    "<br><br>\n",
    "<center><font size='5'><b>파이썬 코딩도장</b></font>"
   ]
  },
  {
   "cell_type": "markdown",
   "metadata": {},
   "source": [
    "# Unit 13. if조건문으로 특정 조건일때 코드 실행하기"
   ]
  },
  {
   "cell_type": "markdown",
   "metadata": {},
   "source": [
    "## if 조건문 사용하기 "
   ]
  },
  {
   "cell_type": "code",
   "execution_count": 2,
   "metadata": {},
   "outputs": [
    {
     "name": "stdout",
     "output_type": "stream",
     "text": [
      "10이 아닙니다\n"
     ]
    }
   ],
   "source": [
    "x = 100\n",
    "if x != 10: #할당하는게 아니라 같은지 다른지 따져보는 것!\n",
    "    print('10이 아닙니다')"
   ]
  },
  {
   "cell_type": "markdown",
   "metadata": {},
   "source": [
    "### if 조건문에서 코드를 생략하기\n",
    "\n",
    "조건식만 작성하고 코드를 생략"
   ]
  },
  {
   "cell_type": "code",
   "execution_count": 4,
   "metadata": {},
   "outputs": [],
   "source": [
    "x = 10\n",
    "\n",
    "if x == 10:\n",
    "    pass # 아무일도 하지 않고 넘어간다는 뜻. 나중에 작성해야 할 코드를 표시할 때 사용할 수 있음"
   ]
  },
  {
   "cell_type": "code",
   "execution_count": 6,
   "metadata": {},
   "outputs": [],
   "source": [
    "x = 10\n",
    "\n",
    "if x == 10:\n",
    "    pass # TODO : x가 10일 때 처리가 필요함 \n",
    "# 프로그래머들 나중에 처리할 일 찾기 위해 'TODO, FIXME 등을 넣음'"
   ]
  },
  {
   "cell_type": "markdown",
   "metadata": {},
   "source": [
    "## 중첩 if 조건문 사용하기 \n",
    "\n",
    "- if를 여러번 반복 사용하는 경우"
   ]
  },
  {
   "cell_type": "code",
   "execution_count": 8,
   "metadata": {},
   "outputs": [
    {
     "name": "stdout",
     "output_type": "stream",
     "text": [
      "10 입니다.\n",
      "10이상이지만 결국 15입니다.\n"
     ]
    }
   ],
   "source": [
    "x = 15\n",
    "\n",
    "if x >= 10:\n",
    "    print('10 입니다.')\n",
    "    \n",
    "    if x == 15:\n",
    "        print('10이상이지만 결국 15입니다.')\n",
    "        \n",
    "    if x == 20:\n",
    "        print('10이상이지만 결국 20입니다.')"
   ]
  },
  {
   "cell_type": "markdown",
   "metadata": {},
   "source": [
    "## 사용자가 입력한 값에 if 조건문 사용하기  "
   ]
  },
  {
   "cell_type": "code",
   "execution_count": 13,
   "metadata": {},
   "outputs": [
    {
     "name": "stdout",
     "output_type": "stream",
     "text": [
      "숫자를 아무거나 하나 입력하세요: 5\n",
      "10, 20 둘 중 아무것도 아니야\n"
     ]
    }
   ],
   "source": [
    "x = int(input('숫자를 아무거나 하나 입력하세요: '))\n",
    "\n",
    "if x == 10:\n",
    "    print('10입니다.')\n",
    "\n",
    "if x == 20:\n",
    "    print('20입니다.')\n",
    "\n",
    "if x != 10 or x != 20:\n",
    "    print('10, 20 둘 중 아무것도 아니야')"
   ]
  },
  {
   "cell_type": "markdown",
   "metadata": {},
   "source": [
    "# Unit 14. else를 사용하여 두 방향으로 나누기\n",
    "\n",
    "- if 광고 전화인가?:\n",
    "  - 전화를 끊는다\n",
    "- else:\n",
    "  - 계속 통화한다"
   ]
  },
  {
   "cell_type": "markdown",
   "metadata": {},
   "source": [
    "## else 사용하기  "
   ]
  },
  {
   "cell_type": "code",
   "execution_count": 14,
   "metadata": {},
   "outputs": [
    {
     "name": "stdout",
     "output_type": "stream",
     "text": [
      "10이 아닙니다\n"
     ]
    }
   ],
   "source": [
    "x = 5\n",
    "\n",
    "if x == 10:\n",
    "    print('10입니다.')\n",
    "else:\n",
    "    print('10이 아닙니다')"
   ]
  },
  {
   "cell_type": "markdown",
   "metadata": {},
   "source": [
    "### 축약된 버전\n",
    "\n",
    "변수 = 값 if 조건문 else 값"
   ]
  },
  {
   "cell_type": "code",
   "execution_count": 15,
   "metadata": {},
   "outputs": [
    {
     "data": {
      "text/plain": [
       "0"
      ]
     },
     "execution_count": 15,
     "metadata": {},
     "output_type": "execute_result"
    }
   ],
   "source": [
    "x = 5\n",
    "\n",
    "y = x if x == 10 else 0\n",
    "y"
   ]
  },
  {
   "cell_type": "markdown",
   "metadata": {},
   "source": [
    "## 조건식 여러개 지정하기 "
   ]
  },
  {
   "cell_type": "code",
   "execution_count": 16,
   "metadata": {},
   "outputs": [
    {
     "name": "stdout",
     "output_type": "stream",
     "text": [
      "참\n"
     ]
    }
   ],
   "source": [
    "x = 10\n",
    "y = 20\n",
    " \n",
    "if x == 10 and y == 20: #x가 10이면서 y가 20일때\n",
    "    print('참')\n",
    "else:\n",
    "    print('거짓')"
   ]
  },
  {
   "cell_type": "markdown",
   "metadata": {},
   "source": [
    "# Unit 15. elif를 사용하여 여러 방향으로 나누기\n",
    "\n",
    "- if 콜라 버튼을 눌르면:\n",
    "  - 콜라를 내보내고\n",
    "- elif 사이다 버튼을 누르면:\n",
    "  - 사이다를 내보내고\n",
    "- elif 환타 버튼을 누르면:\n",
    "  - 환타를 내보내고\n",
    "- else:\n",
    "  - 아무것도 안내보냄"
   ]
  },
  {
   "cell_type": "code",
   "execution_count": 18,
   "metadata": {},
   "outputs": [
    {
     "name": "stdout",
     "output_type": "stream",
     "text": [
      "때려치라\n"
     ]
    }
   ],
   "source": [
    "x = 30\n",
    "\n",
    "if x == 10:\n",
    "    print('10인데여?')\n",
    "elif x == 20:\n",
    "    print('20인데여?')\n",
    "else:\n",
    "    print('때려치라')"
   ]
  },
  {
   "cell_type": "markdown",
   "metadata": {},
   "source": [
    "## 음료수 자판기 만들기"
   ]
  },
  {
   "cell_type": "code",
   "execution_count": 19,
   "metadata": {},
   "outputs": [
    {
     "name": "stdout",
     "output_type": "stream",
     "text": [
      "번호를 선택하시오 : 5\n",
      "Not available\n"
     ]
    }
   ],
   "source": [
    "button = int(input('번호를 선택하시오 : '))\n",
    "\n",
    "if button == 1:\n",
    "    print('Coke')\n",
    "elif button == 2:\n",
    "    print('Cider')\n",
    "else:\n",
    "    print('Not available')\n"
   ]
  }
 ],
 "metadata": {
  "kernelspec": {
   "display_name": "Python 3",
   "language": "python",
   "name": "python3"
  },
  "language_info": {
   "codemirror_mode": {
    "name": "ipython",
    "version": 3
   },
   "file_extension": ".py",
   "mimetype": "text/x-python",
   "name": "python",
   "nbconvert_exporter": "python",
   "pygments_lexer": "ipython3",
   "version": "3.7.2"
  },
  "toc": {
   "base_numbering": 1,
   "nav_menu": {},
   "number_sections": true,
   "sideBar": true,
   "skip_h1_title": false,
   "title_cell": "Table of Contents",
   "title_sidebar": "Contents",
   "toc_cell": false,
   "toc_position": {
    "height": "calc(100% - 180px)",
    "left": "10px",
    "top": "150px",
    "width": "349.078px"
   },
   "toc_section_display": true,
   "toc_window_display": true
  },
  "varInspector": {
   "cols": {
    "lenName": 16,
    "lenType": 16,
    "lenVar": 40
   },
   "kernels_config": {
    "python": {
     "delete_cmd_postfix": "",
     "delete_cmd_prefix": "del ",
     "library": "var_list.py",
     "varRefreshCmd": "print(var_dic_list())"
    },
    "r": {
     "delete_cmd_postfix": ") ",
     "delete_cmd_prefix": "rm(",
     "library": "var_list.r",
     "varRefreshCmd": "cat(var_dic_list()) "
    }
   },
   "types_to_exclude": [
    "module",
    "function",
    "builtin_function_or_method",
    "instance",
    "_Feature"
   ],
   "window_display": false
  }
 },
 "nbformat": 4,
 "nbformat_minor": 2
}
