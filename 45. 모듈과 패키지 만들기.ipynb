{
 "cells": [
  {
   "cell_type": "markdown",
   "metadata": {},
   "source": [
    "<br><br>\n",
    "<center><font size='5'><b>파이썬 코딩도장</b></font>\n",
    "    \n",
    "    https://dojang.io/mod/page/view.php?id=2450"
   ]
  },
  {
   "cell_type": "markdown",
   "metadata": {},
   "source": [
    "# 1. 모듈 만들기\n",
    "\n",
    "- 코드 작성시 공통되는 부분을 빼내서 모듈과 패키지로 만들기.\n",
    "- Module : 변수, 함수, 클래스를 모아놓은 것.\n",
    "- Package : 여러 모듈을 묶은 것"
   ]
  },
  {
   "cell_type": "code",
   "execution_count": 4,
   "metadata": {
    "ExecuteTime": {
     "end_time": "2019-09-02T03:53:13.063649Z",
     "start_time": "2019-09-02T03:53:13.060665Z"
    }
   },
   "outputs": [],
   "source": [
    "base = 2  # 변수\n",
    "\n",
    "def square(n):\n",
    "    return base ** n"
   ]
  },
  {
   "cell_type": "markdown",
   "metadata": {},
   "source": [
    "- 위 실행을 따로 square2.py로 저장한다. 이때 모듈 이름은 .py를 제외한 것"
   ]
  },
  {
   "cell_type": "markdown",
   "metadata": {},
   "source": [
    "## 1.1. 모듈 가져오기 및 사용하기\n",
    "\n",
    "- import 모듈\n",
    "  - 모듈.변수\n",
    "  - 모듈.함수()\n",
    "- from 모듈 import 변수, 함수"
   ]
  },
  {
   "cell_type": "code",
   "execution_count": 5,
   "metadata": {
    "ExecuteTime": {
     "end_time": "2019-09-02T03:53:14.135764Z",
     "start_time": "2019-09-02T03:53:14.131775Z"
    }
   },
   "outputs": [],
   "source": [
    "import square2"
   ]
  },
  {
   "cell_type": "code",
   "execution_count": 6,
   "metadata": {
    "ExecuteTime": {
     "end_time": "2019-09-02T03:53:15.164014Z",
     "start_time": "2019-09-02T03:53:15.156036Z"
    }
   },
   "outputs": [
    {
     "data": {
      "text/plain": [
       "2"
      ]
     },
     "execution_count": 6,
     "metadata": {},
     "output_type": "execute_result"
    }
   ],
   "source": [
    "square2.base"
   ]
  },
  {
   "cell_type": "code",
   "execution_count": 7,
   "metadata": {
    "ExecuteTime": {
     "end_time": "2019-09-02T03:53:15.528292Z",
     "start_time": "2019-09-02T03:53:15.524301Z"
    }
   },
   "outputs": [
    {
     "data": {
      "text/plain": [
       "1024"
      ]
     },
     "execution_count": 7,
     "metadata": {},
     "output_type": "execute_result"
    }
   ],
   "source": [
    "square2.square(10)"
   ]
  },
  {
   "cell_type": "code",
   "execution_count": 8,
   "metadata": {
    "ExecuteTime": {
     "end_time": "2019-09-02T03:53:16.551163Z",
     "start_time": "2019-09-02T03:53:16.548172Z"
    }
   },
   "outputs": [],
   "source": [
    "from square2 import base, square"
   ]
  },
  {
   "cell_type": "code",
   "execution_count": 9,
   "metadata": {
    "ExecuteTime": {
     "end_time": "2019-09-02T03:53:16.967035Z",
     "start_time": "2019-09-02T03:53:16.964043Z"
    }
   },
   "outputs": [
    {
     "name": "stdout",
     "output_type": "stream",
     "text": [
      "2\n",
      "1024\n"
     ]
    }
   ],
   "source": [
    "print(base)\n",
    "print(square(10))"
   ]
  },
  {
   "cell_type": "markdown",
   "metadata": {},
   "source": [
    "## 1.2. 모듈에 Class 작성하고, 가져오기\n",
    "\n",
    "- import 모듈\n",
    "  - 모듈.클래스()\n",
    "- from 모듈 import 클래스"
   ]
  },
  {
   "cell_type": "code",
   "execution_count": 10,
   "metadata": {
    "ExecuteTime": {
     "end_time": "2019-09-02T03:53:18.103999Z",
     "start_time": "2019-09-02T03:53:18.100010Z"
    }
   },
   "outputs": [],
   "source": [
    "class Person:\n",
    "    def __init__(self, name, age, address):\n",
    "        self.name = name\n",
    "        self.age = age\n",
    "        self.address = address\n",
    "        \n",
    "    def greeting(self):\n",
    "        print(\"Hello, I'm {0}\".format(self.name))"
   ]
  },
  {
   "cell_type": "code",
   "execution_count": 11,
   "metadata": {
    "ExecuteTime": {
     "end_time": "2019-09-02T03:53:18.321672Z",
     "start_time": "2019-09-02T03:53:18.317684Z"
    }
   },
   "outputs": [],
   "source": [
    "import person"
   ]
  },
  {
   "cell_type": "code",
   "execution_count": 12,
   "metadata": {
    "ExecuteTime": {
     "end_time": "2019-09-02T03:53:19.352096Z",
     "start_time": "2019-09-02T03:53:19.348107Z"
    }
   },
   "outputs": [
    {
     "name": "stdout",
     "output_type": "stream",
     "text": [
      "Hello, I'm 마리아\n"
     ]
    }
   ],
   "source": [
    "maria = person.Person('마리아', 18, '포항')\n",
    "maria.greeting()"
   ]
  },
  {
   "cell_type": "code",
   "execution_count": 13,
   "metadata": {
    "ExecuteTime": {
     "end_time": "2019-09-02T03:53:19.966649Z",
     "start_time": "2019-09-02T03:53:19.963657Z"
    }
   },
   "outputs": [],
   "source": [
    "from person import Person"
   ]
  },
  {
   "cell_type": "markdown",
   "metadata": {},
   "source": [
    "# 2. 모듈과 시작점 알아보기 "
   ]
  },
  {
   "cell_type": "code",
   "execution_count": null,
   "metadata": {},
   "outputs": [],
   "source": [
    "if __name__ = '__main__':\n",
    "    ~~~~~~~~~~~~~~~~~~~"
   ]
  },
  {
   "cell_type": "markdown",
   "metadata": {},
   "source": [
    "위에 코드는 왜 사용하는 것일까?\n",
    "\n",
    "- 현재 스크립트 파일이 실행되는 상태를 파악하기 위해서."
   ]
  },
  {
   "cell_type": "code",
   "execution_count": 14,
   "metadata": {
    "ExecuteTime": {
     "end_time": "2019-09-02T03:53:22.553753Z",
     "start_time": "2019-09-02T03:53:22.549742Z"
    }
   },
   "outputs": [
    {
     "name": "stdout",
     "output_type": "stream",
     "text": [
      "hello 모듈 시작\n",
      "hello.py __name__: __main__\n",
      "hello 모듈 끝\n"
     ]
    }
   ],
   "source": [
    "## 아래 내용을 hello.py로 저장하기 \n",
    "\n",
    "print('hello 모듈 시작')\n",
    "print('hello.py __name__:', __name__)    # __name__ 변수 출력\n",
    "print('hello 모듈 끝')"
   ]
  },
  {
   "cell_type": "code",
   "execution_count": 15,
   "metadata": {
    "ExecuteTime": {
     "end_time": "2019-09-02T03:53:23.080577Z",
     "start_time": "2019-09-02T03:53:23.077557Z"
    }
   },
   "outputs": [
    {
     "name": "stdout",
     "output_type": "stream",
     "text": [
      "hello 모듈 시작\n",
      "hello.py __name__: hello\n",
      "hello 모듈 끝\n"
     ]
    }
   ],
   "source": [
    "import hello\n",
    "\n",
    "# __name__은 실행되고 있는 .py파일의 이름을 출력한다.\n",
    "# 현재 지금 돌아가고 있는 스크립트 파일이 뭔지 알려주는 역할이다."
   ]
  },
  {
   "cell_type": "markdown",
   "metadata": {},
   "source": [
    "## 2.1. 스크립트 파일로 실행하거나 모듈로 사용하는 코드 만들기"
   ]
  },
  {
   "cell_type": "code",
   "execution_count": 16,
   "metadata": {
    "ExecuteTime": {
     "end_time": "2019-09-02T03:57:57.233312Z",
     "start_time": "2019-09-02T03:57:57.228351Z"
    }
   },
   "outputs": [
    {
     "name": "stdout",
     "output_type": "stream",
     "text": [
      "30\n",
      "200\n"
     ]
    }
   ],
   "source": [
    "# calc.py로 아래를 저장\n",
    "\n",
    "def add(a, b):\n",
    "    return a + b\n",
    " \n",
    "def mul(a, b):\n",
    "    return a * b\n",
    " \n",
    "if __name__ == '__main__':    # 프로그램의 시작점일 때만 아래 코드 실행\n",
    "    print(add(10, 20))\n",
    "    print(mul(10, 20))"
   ]
  },
  {
   "cell_type": "code",
   "execution_count": 18,
   "metadata": {
    "ExecuteTime": {
     "end_time": "2019-09-02T04:00:15.274383Z",
     "start_time": "2019-09-02T04:00:15.270433Z"
    }
   },
   "outputs": [],
   "source": [
    "import calc\n",
    "\n",
    "# 모듈로 가져왔을 때는 아무것도 출력되지 않았따\n",
    "# 왜냐면, __name__변수의 값이 __main__일때만 출력하도록 만들었기 때문.\n",
    "# IDLE에서 실앻하거나 python calc.py 같이 파이썬 인터프리터로 실행하면 출력된다."
   ]
  },
  {
   "cell_type": "code",
   "execution_count": 19,
   "metadata": {
    "ExecuteTime": {
     "end_time": "2019-09-02T04:00:34.619390Z",
     "start_time": "2019-09-02T04:00:34.614427Z"
    }
   },
   "outputs": [
    {
     "data": {
      "text/plain": [
       "30"
      ]
     },
     "execution_count": 19,
     "metadata": {},
     "output_type": "execute_result"
    }
   ],
   "source": [
    "calc.add(10,20)"
   ]
  },
  {
   "cell_type": "code",
   "execution_count": 20,
   "metadata": {
    "ExecuteTime": {
     "end_time": "2019-09-02T04:00:41.146057Z",
     "start_time": "2019-09-02T04:00:41.143061Z"
    }
   },
   "outputs": [
    {
     "data": {
      "text/plain": [
       "200"
      ]
     },
     "execution_count": 20,
     "metadata": {},
     "output_type": "execute_result"
    }
   ],
   "source": [
    "calc.mul(10,20)"
   ]
  },
  {
   "cell_type": "markdown",
   "metadata": {},
   "source": [
    "# 3. 패키지 만들기\n",
    "\n",
    "![image](https://user-images.githubusercontent.com/48466625/64089870-21069480-cd83-11e9-8483-61b9e37edd6c.png)\n",
    "- 먼저 폴더 안에 calcpkg라는 폴더를 만들고,\n",
    "- init.py파일 저장\n",
    "  - 폴더 안에 init.py 파일이 있으면 해당 폴더는 패키지로 인식된다.\n",
    "  - 기본적으로 init.py 내용은 비워둘 수 있음. (파이썬 3.3 이상부터는 없어도 패키지로 인식되는데, 하위 버전 호환되도록 init 작성 권장)"
   ]
  },
  {
   "cell_type": "markdown",
   "metadata": {},
   "source": [
    "## 3.1. 패키지에 모듈 만들기\n",
    "\n",
    "- operation과 geometry 모듈 두개를 만들겠다."
   ]
  },
  {
   "cell_type": "code",
   "execution_count": 21,
   "metadata": {
    "ExecuteTime": {
     "end_time": "2019-09-02T04:05:55.945523Z",
     "start_time": "2019-09-02T04:05:55.941534Z"
    }
   },
   "outputs": [],
   "source": [
    "# operation.py 파일로 저장\n",
    "\n",
    "def add(a, b):\n",
    "    return a + b\n",
    " \n",
    "def mul(a, b):\n",
    "    return a * b"
   ]
  },
  {
   "cell_type": "code",
   "execution_count": 22,
   "metadata": {
    "ExecuteTime": {
     "end_time": "2019-09-02T04:06:09.189377Z",
     "start_time": "2019-09-02T04:06:09.185406Z"
    }
   },
   "outputs": [],
   "source": [
    "# geometry.py 파일로 저장\n",
    "\n",
    "def triangle_area(base, height):\n",
    "    return base * height / 2\n",
    " \n",
    "def rectangle_area(width, height):\n",
    "    return width * height"
   ]
  },
  {
   "cell_type": "markdown",
   "metadata": {},
   "source": [
    "## 3.2. 패키지 사용하기\n",
    "\n",
    "- import 패키지.모듈\n",
    "- 패키지.모듈.변수\n",
    "- 패키지.모듈.함수()\n",
    "- 패키지.모듈.클래스()\n",
    "\n",
    "\n",
    "- from 패키지.모듈 import 변수\n",
    "- from 패키지.모듈 import 함수\n",
    "- from 패키지.모듈 import 클래스"
   ]
  },
  {
   "cell_type": "code",
   "execution_count": 24,
   "metadata": {
    "ExecuteTime": {
     "end_time": "2019-09-02T04:09:53.019311Z",
     "start_time": "2019-09-02T04:09:53.001383Z"
    }
   },
   "outputs": [
    {
     "name": "stdout",
     "output_type": "stream",
     "text": [
      "30\n",
      "200\n",
      "600.0\n",
      "1200\n"
     ]
    }
   ],
   "source": [
    "import calcpkg.operation    # calcpkg 패키지의 operation 모듈을 가져옴\n",
    "import calcpkg.geometry     # calcpkg 패키지의 geometry 모듈을 가져옴\n",
    " \n",
    "print(calcpkg.operation.add(10, 20))    # operation 모듈의 add 함수 사용\n",
    "print(calcpkg.operation.mul(10, 20))    # operation 모듈의 mul 함수 사용\n",
    " \n",
    "print(calcpkg.geometry.triangle_area(30, 40))    # geometry 모듈의 triangle_area 함수 사용\n",
    "print(calcpkg.geometry.rectangle_area(30, 40))   # geometry 모듈의 rectangle_area 함수 사용"
   ]
  },
  {
   "cell_type": "code",
   "execution_count": 25,
   "metadata": {
    "ExecuteTime": {
     "end_time": "2019-09-02T04:10:48.733363Z",
     "start_time": "2019-09-02T04:10:48.729393Z"
    }
   },
   "outputs": [
    {
     "data": {
      "text/plain": [
       "200"
      ]
     },
     "execution_count": 25,
     "metadata": {},
     "output_type": "execute_result"
    }
   ],
   "source": [
    "from calcpkg.operation import add, mul\n",
    "\n",
    "add(10,20)\n",
    "mul(10,20)"
   ]
  },
  {
   "cell_type": "markdown",
   "metadata": {},
   "source": [
    "## 3.3. 모듈과 패키지 찾는 경로\n",
    "\n",
    "- 지금까지는 모듈, 패키지를 현재 폴더에 만들었는데, \n",
    "- 현재 폴더에 모듈, 패키지가 없으면 다음 경로에서 모듈, 패키지를 찾는다.\n",
    "- 여기서 site-packages 폴더에는 pip로 설치한 패키지가 들어가는데, 내가 만든것도 여기다 넣으면 어디에 있든 사용 가능하다.\n",
    "- 가상환경 만들어서 모듈, 패키지 관리한다면 가상환경/Lib/site-packages 폴더에 모듈, 패키지가 들어감."
   ]
  },
  {
   "cell_type": "code",
   "execution_count": 26,
   "metadata": {
    "ExecuteTime": {
     "end_time": "2019-09-02T04:11:44.836703Z",
     "start_time": "2019-09-02T04:11:44.833712Z"
    }
   },
   "outputs": [],
   "source": [
    "import sys"
   ]
  },
  {
   "cell_type": "code",
   "execution_count": 27,
   "metadata": {
    "ExecuteTime": {
     "end_time": "2019-09-02T04:11:47.444807Z",
     "start_time": "2019-09-02T04:11:47.440818Z"
    }
   },
   "outputs": [
    {
     "data": {
      "text/plain": [
       "['D:\\\\Dropbox\\\\Study\\\\코딩도장',\n",
       " 'c:\\\\users\\\\user\\\\appdata\\\\local\\\\programs\\\\python\\\\python37\\\\python37.zip',\n",
       " 'c:\\\\users\\\\user\\\\appdata\\\\local\\\\programs\\\\python\\\\python37\\\\DLLs',\n",
       " 'c:\\\\users\\\\user\\\\appdata\\\\local\\\\programs\\\\python\\\\python37\\\\lib',\n",
       " 'c:\\\\users\\\\user\\\\appdata\\\\local\\\\programs\\\\python\\\\python37',\n",
       " '',\n",
       " 'c:\\\\users\\\\user\\\\appdata\\\\local\\\\programs\\\\python\\\\python37\\\\lib\\\\site-packages',\n",
       " 'c:\\\\users\\\\user\\\\appdata\\\\local\\\\programs\\\\python\\\\python37\\\\lib\\\\site-packages\\\\IPython\\\\extensions',\n",
       " 'C:\\\\Users\\\\user\\\\.ipython']"
      ]
     },
     "execution_count": 27,
     "metadata": {},
     "output_type": "execute_result"
    }
   ],
   "source": [
    "sys.path"
   ]
  },
  {
   "cell_type": "markdown",
   "metadata": {},
   "source": [
    "# 4. 패키지에서 from import 응용하기\n",
    "\n",
    "- 지금까지는 calcpkg 패키지의 모듈을 가져올때 __import calcpkg.operation__같이 패키지.모듈 형태로 가져왔음\n",
    "- __import 패키지__ 형식으로 패키지만 가져와서 모듈을 사용한다면?\n",
    "  - 패지지의 init.py파일을 아래와 같이 수정함"
   ]
  },
  {
   "cell_type": "code",
   "execution_count": null,
   "metadata": {},
   "outputs": [],
   "source": [
    "## __init__.py를 아래와 같이 수정\n",
    "\n",
    "from . import operation    # 현재 패키지에서 operation 모듈을 가져옴\n",
    "from . import geometry     # 현재 패키지에서 geometry 모듈을 가져옴"
   ]
  },
  {
   "cell_type": "code",
   "execution_count": 28,
   "metadata": {
    "ExecuteTime": {
     "end_time": "2019-09-02T05:57:14.040108Z",
     "start_time": "2019-09-02T05:57:14.037115Z"
    }
   },
   "outputs": [],
   "source": [
    "import calcpkg"
   ]
  },
  {
   "cell_type": "code",
   "execution_count": 29,
   "metadata": {
    "ExecuteTime": {
     "end_time": "2019-09-02T05:57:21.391878Z",
     "start_time": "2019-09-02T05:57:21.386892Z"
    }
   },
   "outputs": [
    {
     "name": "stdout",
     "output_type": "stream",
     "text": [
      "30\n",
      "200\n",
      "600.0\n",
      "1200\n"
     ]
    }
   ],
   "source": [
    "print(calcpkg.operation.add(10, 20))    # operation 모듈의 add 함수 사용\n",
    "print(calcpkg.operation.mul(10, 20))    # operation 모듈의 mul 함수 사용\n",
    " \n",
    "print(calcpkg.geometry.triangle_area(30, 40))    # geometry 모듈의 triangle_area 함수 사용\n",
    "print(calcpkg.geometry.rectangle_area(30, 40))   # geometry 모듈의 rectangle_area 함수 사용"
   ]
  }
 ],
 "metadata": {
  "kernelspec": {
   "display_name": "Python 3",
   "language": "python",
   "name": "python3"
  },
  "language_info": {
   "codemirror_mode": {
    "name": "ipython",
    "version": 3
   },
   "file_extension": ".py",
   "mimetype": "text/x-python",
   "name": "python",
   "nbconvert_exporter": "python",
   "pygments_lexer": "ipython3",
   "version": "3.7.2"
  },
  "toc": {
   "base_numbering": 1,
   "nav_menu": {},
   "number_sections": true,
   "sideBar": true,
   "skip_h1_title": false,
   "title_cell": "Table of Contents",
   "title_sidebar": "Contents",
   "toc_cell": false,
   "toc_position": {
    "height": "calc(100% - 180px)",
    "left": "10px",
    "top": "150px",
    "width": "349.077px"
   },
   "toc_section_display": true,
   "toc_window_display": true
  },
  "varInspector": {
   "cols": {
    "lenName": 16,
    "lenType": 16,
    "lenVar": 40
   },
   "kernels_config": {
    "python": {
     "delete_cmd_postfix": "",
     "delete_cmd_prefix": "del ",
     "library": "var_list.py",
     "varRefreshCmd": "print(var_dic_list())"
    },
    "r": {
     "delete_cmd_postfix": ") ",
     "delete_cmd_prefix": "rm(",
     "library": "var_list.r",
     "varRefreshCmd": "cat(var_dic_list()) "
    }
   },
   "types_to_exclude": [
    "module",
    "function",
    "builtin_function_or_method",
    "instance",
    "_Feature"
   ],
   "window_display": false
  }
 },
 "nbformat": 4,
 "nbformat_minor": 2
}
